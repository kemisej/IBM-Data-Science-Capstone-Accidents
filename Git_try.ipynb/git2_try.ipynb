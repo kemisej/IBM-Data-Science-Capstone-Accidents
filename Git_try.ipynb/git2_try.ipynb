# This is my attempt to use atom to connect to jupyter notebook and Git.

import pandas as pd
import numpy as np
print("Hello Capstone Project Course!")
